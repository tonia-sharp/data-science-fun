{
 "cells": [
  {
   "cell_type": "markdown",
   "id": "64b4f214",
   "metadata": {},
   "source": [
    "# Data Science Tools and Ecosystem\n",
    "\n"
   ]
  },
  {
   "cell_type": "markdown",
   "id": "d29668d8",
   "metadata": {},
   "source": [
    "This notebook provides a summary of data science tools and ecosystems."
   ]
  },
  {
   "cell_type": "markdown",
   "id": "26523013",
   "metadata": {},
   "source": [
    "Some of the more popular languages used in data science includes:\n",
    "- Python\n",
    "- SQL\n",
    "- R\n",
    "- Julia"
   ]
  },
  {
   "cell_type": "markdown",
   "id": "c60f2bb8",
   "metadata": {},
   "source": [
    "Here is a list of the most commonly used libraries:\n",
    "- Python\n",
    "    - NumPy\n",
    "    - Pandas\n",
    "    - Visualization \n",
    "        - matplotlib\n",
    "    - Machine learning/deep learning\n",
    "        - scikit-learn\n",
    "        - tensorflow\n",
    "- Apache Spark (data compute tool)\n",
    " "
   ]
  },
  {
   "cell_type": "markdown",
   "id": "0654279e",
   "metadata": {},
   "source": [
    "Data Science Tools\n",
    "\n",
    "| Tools   | \n",
    "| -------- |\n",
    "| Jupyter Notebooks  | \n",
    "| GitHub | \n",
    "| GitHub  | \n",
    "| Google Collaboratory |\n",
    "\n"
   ]
  },
  {
   "cell_type": "markdown",
   "id": "af2c665a",
   "metadata": {},
   "source": [
    "### Below are a few examples of evaluating arithmetic expressions in Python"
   ]
  },
  {
   "cell_type": "code",
   "execution_count": 4,
   "id": "0c08056c",
   "metadata": {},
   "outputs": [
    {
     "data": {
      "text/plain": [
       "17"
      ]
     },
     "execution_count": 4,
     "metadata": {},
     "output_type": "execute_result"
    }
   ],
   "source": [
    "#This a simple arithmetic expression to mutiply then add integers.\n",
    "(3*4)+5\n"
   ]
  },
  {
   "cell_type": "code",
   "execution_count": 3,
   "id": "b3a748ac",
   "metadata": {},
   "outputs": [
    {
     "name": "stdout",
     "output_type": "stream",
     "text": [
      "3.3333333333333335\n"
     ]
    }
   ],
   "source": [
    "# This will convert 200 minutes to hours by dividing by 60.\n",
    "\n",
    "x = 200\n",
    "y = 60\n",
    "z = x/y\n",
    "print(z)"
   ]
  },
  {
   "cell_type": "markdown",
   "id": "faff6a0e",
   "metadata": {},
   "source": [
    "**Objectives**\n",
    "- Languages used in data science\n",
    "- Libraries used in data science\n",
    "- Tools used in data science\n",
    "- Examples of doing math using Python\n",
    "\n"
   ]
  },
  {
   "cell_type": "markdown",
   "id": "e0024a7e",
   "metadata": {},
   "source": [
    "## Author\n",
    "Mickey Mouse"
   ]
  },
  {
   "cell_type": "code",
   "execution_count": null,
   "id": "281bd6bb",
   "metadata": {},
   "outputs": [],
   "source": []
  }
 ],
 "metadata": {
  "kernelspec": {
   "display_name": "Python 3 (ipykernel)",
   "language": "python",
   "name": "python3"
  },
  "language_info": {
   "codemirror_mode": {
    "name": "ipython",
    "version": 3
   },
   "file_extension": ".py",
   "mimetype": "text/x-python",
   "name": "python",
   "nbconvert_exporter": "python",
   "pygments_lexer": "ipython3",
   "version": "3.11.5"
  }
 },
 "nbformat": 4,
 "nbformat_minor": 5
}
